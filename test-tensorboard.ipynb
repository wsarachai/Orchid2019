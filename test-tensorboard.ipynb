{
 "cells": [
  {
   "cell_type": "code",
   "execution_count": 2,
   "id": "96a16f46",
   "metadata": {},
   "outputs": [
    {
     "name": "stdout",
     "output_type": "stream",
     "text": [
      "Python version: 3.9.5\n",
      "Tensorflow version: 2.5.0\n",
      "Keras version: 2.5.0\n"
     ]
    }
   ],
   "source": [
    "import platform\n",
    "import tensorflow as tf\n",
    "\n",
    "print('Python version:', platform.python_version())\n",
    "print('Tensorflow version:', tf.__version__)\n",
    "print('Keras version:', tf.keras.__version__)"
   ]
  },
  {
   "cell_type": "code",
   "execution_count": 4,
   "id": "edca4855",
   "metadata": {},
   "outputs": [],
   "source": [
    "w = tf.summary.create_file_writer('test/logs')\n",
    "with w.as_default():\n",
    "    for step in range(100):\n",
    "        # Generate fake \"activations\".\n",
    "        activations = [\n",
    "            tf.random.normal([1000], mean=step, stddev=1),\n",
    "            tf.random.normal([1000], mean=step, stddev=10),\n",
    "            tf.random.normal([1000], mean=step, stddev=100),\n",
    "        ]\n",
    "\n",
    "        tf.summary.histogram(\"layer1/activate\", activations[0], step=step)\n",
    "        tf.summary.histogram(\"layer2/activate\", activations[1], step=step)\n",
    "        tf.summary.histogram(\"layer3/activate\", activations[2], step=step)"
   ]
  },
  {
   "cell_type": "code",
   "execution_count": null,
   "id": "858d53ab",
   "metadata": {},
   "outputs": [],
   "source": []
  }
 ],
 "metadata": {
  "kernelspec": {
   "display_name": "Python 3",
   "language": "python",
   "name": "python3"
  },
  "language_info": {
   "codemirror_mode": {
    "name": "ipython",
    "version": 3
   },
   "file_extension": ".py",
   "mimetype": "text/x-python",
   "name": "python",
   "nbconvert_exporter": "python",
   "pygments_lexer": "ipython3",
   "version": "3.9.5"
  }
 },
 "nbformat": 4,
 "nbformat_minor": 5
}
