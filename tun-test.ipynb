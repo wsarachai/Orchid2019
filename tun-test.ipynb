{
 "cells": [
  {
   "cell_type": "code",
   "execution_count": 48,
   "metadata": {},
   "outputs": [],
   "source": [
    "import os\n",
    "import tensorflow as tf\n",
    "import lib_utils\n",
    "from data import data_utils, orchids52_dataset\n",
    "from nets import utils"
   ]
  },
  {
   "cell_type": "code",
   "execution_count": 49,
   "metadata": {},
   "outputs": [
    {
     "name": "stdout",
     "output_type": "stream",
     "text": [
      "mobilenet_v2_140_orchids52\n",
      "/Volumes/Data/tmp\n",
      "/Volumes/Data/_dataset/_orchids_dataset\n",
      "/Volumes/Data/_dataset/_orchids_dataset/orchids52_data\n",
      "/Volumes/Data/tmp/orchids-models/orchids2019/mobilenet_v2_140_orchids52\n"
     ]
    }
   ],
   "source": [
    "train_step = 1\n",
    "model_name = utils.MOBILENET_V2_140_ORCHIDS52\n",
    "workspace_path = os.environ['WORKSPACE'] if 'WORKSPACE' in os.environ else '/Volumes/Data/tmp'\n",
    "data_path = os.environ['DATA_DIR'] if 'DATA_DIR' in os.environ else '/Volumes/Data/_dataset/_orchids_dataset'\n",
    "data_dir = os.path.join(data_path, 'orchids52_data')\n",
    "checkpoint_path = os.path.join(workspace_path, 'orchids-models', 'orchids2019', model_name)\n",
    "print(model_name)\n",
    "print(workspace_path)\n",
    "print(data_path)\n",
    "print(data_dir)\n",
    "print(checkpoint_path)"
   ]
  },
  {
   "cell_type": "code",
   "execution_count": 50,
   "metadata": {},
   "outputs": [
    {
     "name": "stdout",
     "output_type": "stream",
     "text": [
      "32\n"
     ]
    }
   ],
   "source": [
    "batch_size = 32\n",
    "if train_step > 1:\n",
    "    batch_size = batch_size // 4\n",
    "print(batch_size)"
   ]
  },
  {
   "cell_type": "code",
   "execution_count": 51,
   "metadata": {},
   "outputs": [],
   "source": [
    "load_dataset = data_utils.dataset_mapping[data_utils.ORCHIDS52_V1_TFRECORD]\n",
    "create_model = utils.nets_mapping[utils.MOBILENET_V2_140_ORCHIDS52]"
   ]
  },
  {
   "cell_type": "code",
   "execution_count": 52,
   "metadata": {},
   "outputs": [
    {
     "name": "stdout",
     "output_type": "stream",
     "text": [
      "739\n"
     ]
    }
   ],
   "source": [
    "test_ds = load_dataset(split=\"test\", batch_size=batch_size, root_path=data_dir)\n",
    "print(test_ds.size)"
   ]
  },
  {
   "cell_type": "code",
   "execution_count": 53,
   "metadata": {},
   "outputs": [
    {
     "name": "stdout",
     "output_type": "stream",
     "text": [
      "pretrain1\n",
      "0.01\n"
     ]
    }
   ],
   "source": [
    "learning_rate = 0.01\n",
    "training_step = utils.TRAIN_TEMPLATE.format(step=train_step)\n",
    "learning_rate = lib_utils.config_learning_rate(learning_rate=learning_rate,\n",
    "                                               exp_decay=False,\n",
    "                                               training_step=training_step)\n",
    "optimizer = lib_utils.config_optimizer(learning_rate, training_step=training_step)\n",
    "loss_fn = lib_utils.config_loss()\n",
    "print(training_step)\n",
    "print(learning_rate)"
   ]
  },
  {
   "cell_type": "code",
   "execution_count": 54,
   "metadata": {},
   "outputs": [],
   "source": [
    "model = create_model(num_classes=orchids52_dataset.NUM_OF_CLASSES,\n",
    "                     optimizer=optimizer,\n",
    "                     loss_fn=loss_fn,\n",
    "                     batch_size=batch_size,\n",
    "                     step=training_step)"
   ]
  },
  {
   "cell_type": "code",
   "execution_count": 55,
   "metadata": {},
   "outputs": [
    {
     "name": "stdout",
     "output_type": "stream",
     "text": [
      "WARNING:tensorflow:Unresolved object in checkpoint: (root).optimizer.iter\n",
      "WARNING:tensorflow:Unresolved object in checkpoint: (root).optimizer.decay\n",
      "WARNING:tensorflow:Unresolved object in checkpoint: (root).optimizer.learning_rate\n",
      "WARNING:tensorflow:Unresolved object in checkpoint: (root).optimizer.momentum\n",
      "WARNING:tensorflow:Unresolved object in checkpoint: (root).optimizer.rho\n",
      "WARNING:tensorflow:A checkpoint was restored (e.g. tf.train.Checkpoint.restore or tf.keras.Model.load_weights) but not all checkpointed values were used. See above for specific issues. Use expect_partial() on the load status object, e.g. tf.train.Checkpoint.restore(...).expect_partial(), to silence these warnings, or use assert_consumed() to make the check explicit. See https://www.tensorflow.org/guide/checkpoint#loading_mechanics for details.\n"
     ]
    }
   ],
   "source": [
    "train_model = lib_utils.TrainClassifier(model=model,\n",
    "                                        batch_size=batch_size)"
   ]
  },
  {
   "cell_type": "code",
   "execution_count": 45,
   "metadata": {},
   "outputs": [],
   "source": [
    "model.config_checkpoint(checkpoint_path)\n",
    "epoch = model.restore_model_variables()"
   ]
  },
  {
   "cell_type": "code",
   "execution_count": 46,
   "metadata": {},
   "outputs": [
    {
     "name": "stdout",
     "output_type": "stream",
     "text": [
      "Model: \"functional_9\"\n",
      "_________________________________________________________________\n",
      "Layer (type)                 Output Shape              Param #   \n",
      "=================================================================\n",
      "input_5 (InputLayer)         [(None, 224, 224, 3)]     0         \n",
      "_________________________________________________________________\n",
      "preprocess_layer_4 (Preproce (None, 224, 224, 3)       0         \n",
      "_________________________________________________________________\n",
      "mobilenetv2_01_1.40_224 (Fun (None, 7, 7, 1792)        4363712   \n",
      "_________________________________________________________________\n",
      "prediction_layer_4 (Predicti (None, 52)                93236     \n",
      "=================================================================\n",
      "Total params: 4,456,948\n",
      "Trainable params: 0\n",
      "Non-trainable params: 4,456,948\n",
      "_________________________________________________________________\n"
     ]
    }
   ],
   "source": [
    "model.summary()"
   ]
  },
  {
   "cell_type": "code",
   "execution_count": 47,
   "metadata": {},
   "outputs": [
    {
     "name": "stdout",
     "output_type": "stream",
     "text": [
      "Test accuracy: \n",
      "loss: 0.691, accuracy: 0.716\n",
      "\n"
     ]
    }
   ],
   "source": [
    "print('Test accuracy: ')\n",
    "train_model.evaluate(datasets=test_ds)"
   ]
  },
  {
   "cell_type": "code",
   "execution_count": null,
   "metadata": {},
   "outputs": [],
   "source": []
  }
 ],
 "metadata": {
  "kernelspec": {
   "display_name": "Python 3",
   "language": "python",
   "name": "python3"
  },
  "language_info": {
   "codemirror_mode": {
    "name": "ipython",
    "version": 3
   },
   "file_extension": ".py",
   "mimetype": "text/x-python",
   "name": "python",
   "nbconvert_exporter": "python",
   "pygments_lexer": "ipython3",
   "version": "3.8.0"
  }
 },
 "nbformat": 4,
 "nbformat_minor": 4
}
